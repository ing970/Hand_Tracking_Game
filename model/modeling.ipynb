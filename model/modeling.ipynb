{
 "cells": [
  {
   "cell_type": "markdown",
   "id": "d19a7c27",
   "metadata": {},
   "source": [
    "## popol_project_modeling"
   ]
  },
  {
   "cell_type": "markdown",
   "id": "365a135b",
   "metadata": {},
   "source": [
    "### 1.import"
   ]
  },
  {
   "cell_type": "code",
   "execution_count": 1,
   "id": "d0f309e0",
   "metadata": {},
   "outputs": [],
   "source": [
    "import os\n",
    "import cv2\n",
    "import mediapipe as mp\n",
    "import matplotlib.pyplot as plt\n",
    "import torch\n",
    "import torch.nn as nn\n",
    "import torch.optim as optim\n",
    "from torch.utils.data import Dataset, DataLoader\n",
    "from tqdm import tqdm"
   ]
  },
  {
   "cell_type": "markdown",
   "id": "d22e5cd2",
   "metadata": {},
   "source": [
    "### 2.데이터셋 클래스 정의"
   ]
  },
  {
   "cell_type": "code",
   "execution_count": 2,
   "id": "4a28a548",
   "metadata": {},
   "outputs": [
    {
     "name": "stderr",
     "output_type": "stream",
     "text": [
      "INFO: Created TensorFlow Lite XNNPACK delegate for CPU.\n"
     ]
    }
   ],
   "source": [
    "# MediaPipe 손 모델 초기화\n",
    "mp_hands = mp.solutions.hands\n",
    "hands = mp_hands.Hands(static_image_mode=False, max_num_hands=2, min_detection_confidence=0.5)\n",
    "\n",
    "class HandDataset(Dataset):\n",
    "    def __init__(self, image_paths):\n",
    "        self.image_paths = image_paths\n",
    "    \n",
    "    def __len__(self):\n",
    "        return len(self.image_paths)\n",
    "    \n",
    "    def __getitem__(self, idx):\n",
    "        image_path = self.image_paths[idx]\n",
    "        if not os.path.exists(image_path):\n",
    "            raise FileNotFoundError(f\"Image not found at path: {image_path}\")\n",
    "        \n",
    "        if idx >= len(self.image_paths):\n",
    "            raise IndexError(f\"Index {idx} out of range\")\n",
    "        \n",
    "        image = cv2.imread(self.image_paths[idx])\n",
    "        if image is None:\n",
    "            raise FileNotFoundError(f\"Image not fount at path: {self.image_paths[idx]}\")\n",
    "        \n",
    "        image = cv2.cvtColor(image, cv2.COLOR_BGR2RGB)\n",
    "        results = hands.process(image)\n",
    "        \n",
    "        # 초기 랜드마크와 손 종류를 None으로 설정\n",
    "        landmarks_left, landmarks_right = None, None\n",
    "        label_left, label_right = -1, -1\n",
    "        \n",
    "        if results.multi_hand_landmarks:\n",
    "            for hand_landmarks, handedness in zip(results.multi_hand_landmarks, results.multi_handedness):\n",
    "                landmarks = [(lm.x, lm.y, lm.z) for lm in hand_landmarks.landmark]\n",
    "                landmarks = torch.tensor(landmarks).flatten()\n",
    "                \n",
    "                hand_state = self.get_hand_state(landmarks)\n",
    "                \n",
    "                if handedness.classification[0].label == \"Left\":\n",
    "                    landmarks_left = landmarks\n",
    "                    label_left = 0 if hand_state == \"open_hand\" else 1\n",
    "                    \n",
    "                else:\n",
    "                    landmarks_right = landmarks\n",
    "                    label_right = 2 if hand_state == \"open_hand\" else 3\n",
    "        \n",
    "        # 왼손 또는 오른손 랜드마크가 없는 경우, 0으로 채움            \n",
    "        if landmarks_left is None:\n",
    "            landmarks_left = torch.zeros(63)\n",
    "        if landmarks_right is None:\n",
    "            landmarks_right = torch.zeros(63)\n",
    "        \n",
    "        # 라벨이 설정되지 않은 경우, -1로 설정\n",
    "        if label_left == -1:\n",
    "            label_left = 4 # 이는 \"왼손 없음\"을 의미할 수 있음\n",
    "        if label_right == -1:\n",
    "            label_right = 4 # 이는 \"오른손 없음\"을 의미할 수 있음\n",
    "            \n",
    "        label_left = torch.tensor(label_left, dtype=torch.long)\n",
    "        label_right = torch.tensor(label_right, dtype=torch.long)\n",
    "            \n",
    "        return landmarks_left, label_left, landmarks_right, label_right\n",
    "            \n",
    "    def get_hand_state(slef, landmarks):\n",
    "        # 각 손가락의 끝점과 중간점 사이의 거리를 계산하여 손가락이 구부러졌는지 판단\n",
    "        finger_tips = [4, 8, 12, 20] # 엄지, 집게손가락, 중지, 새끼손가락 끝점 랜드마크 인덱스\n",
    "        finger_middels = [3, 7, 11, 19] # 엄지, 집게손가락, 중지, 새끼손가락 중간점 랜드마크 인덱스\n",
    "        closed_count = 0\n",
    "        \n",
    "        for tip, middle in zip(finger_tips, finger_middels):\n",
    "            # tip_pos와 middle_pos는 각각 (x, y, z) 좌표를 가진 텐서\n",
    "            tip_pos = landmarks[tip * 3:tip * 3 + 3] # x, y, z 좌표 추출\n",
    "            middle_pos = landmarks[middle * 3:middle * 3 + 3]\n",
    "            \n",
    "            # 유클리드 거리 계산\n",
    "            distance = torch.sqrt(torch.sum((tip_pos - middle_pos) ** 2))\n",
    "            \n",
    "            if distance < 0.03: # 실험을 통해 조정\n",
    "                closed_count += 1\n",
    "                \n",
    "        # 대부분의 손가락이 구부러진 것으로 판단되면 손을 쥐었다고 간주\n",
    "        if closed_count >= 3:\n",
    "            return \"closed_hand\"\n",
    "        else:\n",
    "            return \"open_hand\""
   ]
  },
  {
   "cell_type": "markdown",
   "id": "cca4357e",
   "metadata": {},
   "source": [
    "### 3.신경망 모델, 손실 함수, 최적화 방법 정의"
   ]
  },
  {
   "cell_type": "code",
   "execution_count": 3,
   "id": "2456eaa9",
   "metadata": {},
   "outputs": [],
   "source": [
    "# 모델 아키텍처 정의\n",
    "class HandStateNN(nn.Module):\n",
    "    def __init__(self, n_classes):\n",
    "        super(HandStateNN, self).__init__()\n",
    "        self.network = nn.Sequential(\n",
    "            nn.Linear(63, 256), \n",
    "            nn.ReLU(),\n",
    "            nn.BatchNorm1d(256),\n",
    "            nn.Dropout(0.5),\n",
    "            \n",
    "            nn.Linear(256, 512),\n",
    "            nn.ReLU(),\n",
    "            nn.BatchNorm1d(512),\n",
    "            nn.Dropout(0.5),\n",
    "            \n",
    "            nn.Linear(512, 256),\n",
    "            nn.ReLU(),\n",
    "            nn.BatchNorm1d(256),\n",
    "            nn.Dropout(0.5),\n",
    "            \n",
    "            nn.Linear(256, 128),\n",
    "            nn.ReLU(),\n",
    "            nn.BatchNorm1d(128),\n",
    "            nn.Dropout(0.5),\n",
    "            \n",
    "            nn.Linear(128, 64),\n",
    "            nn.ReLU(),\n",
    "            \n",
    "            nn.Linear(64, n_classes)\n",
    "        )\n",
    "    def forward(self, x):\n",
    "        return self.network(x)\n",
    "    \n",
    "n_classes = 5\n",
    "batch_size = 16\n",
    "num_epochs = 30\n",
    "learning_rate = 0.0001\n",
    "\n",
    "# 데이터 준비\n",
    "train_image_paths = [os.path.join(\"data/train/\", img_file) for img_file in os.listdir(\"data/train/\") if img_file.endswith(\".jpg\")]\n",
    "validation_image_paths = [os.path.join(\"data/val/\", img_file) for img_file in os.listdir(\"data/val/\") if img_file.endswith(\".jpg\")]\n",
    "\n",
    "# 데이터 셋 정의\n",
    "train_dataset = HandDataset(train_image_paths)\n",
    "validation_dataset = HandDataset(validation_image_paths)\n",
    "\n",
    "# 데이터 불러오기\n",
    "train_dataloader = DataLoader(train_dataset, batch_size, shuffle=True)\n",
    "validation_loader = DataLoader(validation_dataset, batch_size=8, shuffle=True)\n",
    "\n",
    "# 모델 초기화\n",
    "model = HandStateNN(n_classes)\n",
    "\n",
    "# 손실 함수 및 최적화기 정의\n",
    "criterion = nn.CrossEntropyLoss() # 내부적으로 softmax 실행\n",
    "optimizer = optim.Adam(model.parameters(), lr=0.0001)"
   ]
  },
  {
   "cell_type": "markdown",
   "id": "a4744618",
   "metadata": {},
   "source": [
    "### 학습 및 검증"
   ]
  },
  {
   "cell_type": "code",
   "execution_count": 4,
   "id": "7a1ddb92",
   "metadata": {},
   "outputs": [
    {
     "name": "stderr",
     "output_type": "stream",
     "text": [
      "  3%|▎         | 1/30 [01:00<29:10, 60.36s/it]"
     ]
    },
    {
     "name": "stdout",
     "output_type": "stream",
     "text": [
      "Epoch 0, train_loss: 0.0598, val_loss: 2.7091, train_acc: 28.12%, val_acc: 78.00%\n"
     ]
    },
    {
     "name": "stderr",
     "output_type": "stream",
     "text": [
      "  7%|▋         | 2/30 [02:00<28:07, 60.28s/it]"
     ]
    },
    {
     "name": "stdout",
     "output_type": "stream",
     "text": [
      "Epoch 1, train_loss: 0.0484, val_loss: 2.3016, train_acc: 49.81%, val_acc: 92.25%\n"
     ]
    },
    {
     "name": "stderr",
     "output_type": "stream",
     "text": [
      " 10%|█         | 3/30 [03:00<27:07, 60.27s/it]"
     ]
    },
    {
     "name": "stdout",
     "output_type": "stream",
     "text": [
      "Epoch 2, train_loss: 0.0451, val_loss: 1.8413, train_acc: 62.19%, val_acc: 82.00%\n"
     ]
    },
    {
     "name": "stderr",
     "output_type": "stream",
     "text": [
      " 13%|█▎        | 4/30 [04:01<26:07, 60.29s/it]"
     ]
    },
    {
     "name": "stdout",
     "output_type": "stream",
     "text": [
      "Epoch 3, train_loss: 0.0359, val_loss: 1.5263, train_acc: 67.00%, val_acc: 85.25%\n"
     ]
    },
    {
     "name": "stderr",
     "output_type": "stream",
     "text": [
      " 17%|█▋        | 5/30 [05:00<25:01, 60.06s/it]"
     ]
    },
    {
     "name": "stdout",
     "output_type": "stream",
     "text": [
      "Epoch 4, train_loss: 0.0285, val_loss: 1.2528, train_acc: 73.38%, val_acc: 96.00%\n"
     ]
    },
    {
     "name": "stderr",
     "output_type": "stream",
     "text": [
      " 20%|██        | 6/30 [06:00<23:57, 59.90s/it]"
     ]
    },
    {
     "name": "stdout",
     "output_type": "stream",
     "text": [
      "Epoch 5, train_loss: 0.0244, val_loss: 1.0372, train_acc: 74.44%, val_acc: 97.25%\n"
     ]
    },
    {
     "name": "stderr",
     "output_type": "stream",
     "text": [
      " 23%|██▎       | 7/30 [07:00<22:56, 59.85s/it]"
     ]
    },
    {
     "name": "stdout",
     "output_type": "stream",
     "text": [
      "Epoch 6, train_loss: 0.0217, val_loss: 0.8410, train_acc: 82.69%, val_acc: 96.00%\n"
     ]
    },
    {
     "name": "stderr",
     "output_type": "stream",
     "text": [
      " 27%|██▋       | 8/30 [08:00<21:59, 59.97s/it]"
     ]
    },
    {
     "name": "stdout",
     "output_type": "stream",
     "text": [
      "Epoch 7, train_loss: 0.0212, val_loss: 0.6740, train_acc: 85.75%, val_acc: 95.25%\n"
     ]
    },
    {
     "name": "stderr",
     "output_type": "stream",
     "text": [
      " 30%|███       | 9/30 [08:59<20:56, 59.85s/it]"
     ]
    },
    {
     "name": "stdout",
     "output_type": "stream",
     "text": [
      "Epoch 8, train_loss: 0.0174, val_loss: 0.5350, train_acc: 88.81%, val_acc: 97.00%\n"
     ]
    },
    {
     "name": "stderr",
     "output_type": "stream",
     "text": [
      " 33%|███▎      | 10/30 [09:59<19:54, 59.72s/it]"
     ]
    },
    {
     "name": "stdout",
     "output_type": "stream",
     "text": [
      "Epoch 9, train_loss: 0.0129, val_loss: 0.4464, train_acc: 92.62%, val_acc: 96.00%\n"
     ]
    },
    {
     "name": "stderr",
     "output_type": "stream",
     "text": [
      " 37%|███▋      | 11/30 [10:59<18:55, 59.74s/it]"
     ]
    },
    {
     "name": "stdout",
     "output_type": "stream",
     "text": [
      "Epoch 10, train_loss: 0.0091, val_loss: 0.4117, train_acc: 91.69%, val_acc: 96.50%\n"
     ]
    },
    {
     "name": "stderr",
     "output_type": "stream",
     "text": [
      " 40%|████      | 12/30 [11:58<17:55, 59.75s/it]"
     ]
    },
    {
     "name": "stdout",
     "output_type": "stream",
     "text": [
      "Epoch 11, train_loss: 0.0073, val_loss: 0.3693, train_acc: 94.50%, val_acc: 97.25%\n"
     ]
    },
    {
     "name": "stderr",
     "output_type": "stream",
     "text": [
      " 43%|████▎     | 13/30 [12:58<16:55, 59.72s/it]"
     ]
    },
    {
     "name": "stdout",
     "output_type": "stream",
     "text": [
      "Epoch 12, train_loss: 0.0133, val_loss: 0.3480, train_acc: 93.88%, val_acc: 97.50%\n"
     ]
    },
    {
     "name": "stderr",
     "output_type": "stream",
     "text": [
      " 47%|████▋     | 14/30 [13:58<15:55, 59.69s/it]"
     ]
    },
    {
     "name": "stdout",
     "output_type": "stream",
     "text": [
      "Epoch 13, train_loss: 0.0092, val_loss: 0.3573, train_acc: 93.25%, val_acc: 97.50%\n"
     ]
    },
    {
     "name": "stderr",
     "output_type": "stream",
     "text": [
      " 50%|█████     | 15/30 [14:57<14:54, 59.61s/it]"
     ]
    },
    {
     "name": "stdout",
     "output_type": "stream",
     "text": [
      "Epoch 14, train_loss: 0.0095, val_loss: 0.3619, train_acc: 94.88%, val_acc: 97.00%\n"
     ]
    },
    {
     "name": "stderr",
     "output_type": "stream",
     "text": [
      " 53%|█████▎    | 16/30 [15:56<13:53, 59.51s/it]"
     ]
    },
    {
     "name": "stdout",
     "output_type": "stream",
     "text": [
      "Epoch 15, train_loss: 0.0021, val_loss: 0.5638, train_acc: 92.62%, val_acc: 94.25%\n"
     ]
    },
    {
     "name": "stderr",
     "output_type": "stream",
     "text": [
      " 57%|█████▋    | 17/30 [16:56<12:53, 59.46s/it]"
     ]
    },
    {
     "name": "stdout",
     "output_type": "stream",
     "text": [
      "Epoch 16, train_loss: 0.0141, val_loss: 0.3087, train_acc: 94.88%, val_acc: 97.50%\n"
     ]
    },
    {
     "name": "stderr",
     "output_type": "stream",
     "text": [
      " 60%|██████    | 18/30 [17:55<11:53, 59.48s/it]"
     ]
    },
    {
     "name": "stdout",
     "output_type": "stream",
     "text": [
      "Epoch 17, train_loss: 0.0051, val_loss: 0.3661, train_acc: 95.19%, val_acc: 96.75%\n"
     ]
    },
    {
     "name": "stderr",
     "output_type": "stream",
     "text": [
      " 63%|██████▎   | 19/30 [18:55<10:53, 59.44s/it]"
     ]
    },
    {
     "name": "stdout",
     "output_type": "stream",
     "text": [
      "Epoch 18, train_loss: 0.0022, val_loss: 0.2994, train_acc: 95.31%, val_acc: 97.50%\n"
     ]
    },
    {
     "name": "stderr",
     "output_type": "stream",
     "text": [
      " 67%|██████▋   | 20/30 [19:54<09:53, 59.37s/it]"
     ]
    },
    {
     "name": "stdout",
     "output_type": "stream",
     "text": [
      "Epoch 19, train_loss: 0.0141, val_loss: 0.4148, train_acc: 95.12%, val_acc: 96.50%\n"
     ]
    },
    {
     "name": "stderr",
     "output_type": "stream",
     "text": [
      " 70%|███████   | 21/30 [20:53<08:54, 59.37s/it]"
     ]
    },
    {
     "name": "stdout",
     "output_type": "stream",
     "text": [
      "Epoch 20, train_loss: 0.0083, val_loss: 0.3831, train_acc: 95.00%, val_acc: 97.75%\n"
     ]
    },
    {
     "name": "stderr",
     "output_type": "stream",
     "text": [
      " 73%|███████▎  | 22/30 [21:53<07:56, 59.50s/it]"
     ]
    },
    {
     "name": "stdout",
     "output_type": "stream",
     "text": [
      "Epoch 21, train_loss: 0.0015, val_loss: 0.2922, train_acc: 94.81%, val_acc: 98.00%\n"
     ]
    },
    {
     "name": "stderr",
     "output_type": "stream",
     "text": [
      " 77%|███████▋  | 23/30 [22:53<06:56, 59.54s/it]"
     ]
    },
    {
     "name": "stdout",
     "output_type": "stream",
     "text": [
      "Epoch 22, train_loss: 0.0086, val_loss: 0.2235, train_acc: 96.50%, val_acc: 98.25%\n"
     ]
    },
    {
     "name": "stderr",
     "output_type": "stream",
     "text": [
      " 80%|████████  | 24/30 [23:51<05:55, 59.18s/it]"
     ]
    },
    {
     "name": "stdout",
     "output_type": "stream",
     "text": [
      "Epoch 23, train_loss: 0.0030, val_loss: 0.6164, train_acc: 97.19%, val_acc: 90.25%\n"
     ]
    },
    {
     "name": "stderr",
     "output_type": "stream",
     "text": [
      " 83%|████████▎ | 25/30 [24:49<04:53, 58.75s/it]"
     ]
    },
    {
     "name": "stdout",
     "output_type": "stream",
     "text": [
      "Epoch 24, train_loss: 0.0020, val_loss: 0.3671, train_acc: 95.12%, val_acc: 98.00%\n"
     ]
    },
    {
     "name": "stderr",
     "output_type": "stream",
     "text": [
      " 87%|████████▋ | 26/30 [25:48<03:55, 58.99s/it]"
     ]
    },
    {
     "name": "stdout",
     "output_type": "stream",
     "text": [
      "Epoch 25, train_loss: 0.0030, val_loss: 0.2987, train_acc: 96.81%, val_acc: 98.00%\n"
     ]
    },
    {
     "name": "stderr",
     "output_type": "stream",
     "text": [
      " 90%|█████████ | 27/30 [26:48<02:57, 59.30s/it]"
     ]
    },
    {
     "name": "stdout",
     "output_type": "stream",
     "text": [
      "Epoch 26, train_loss: 0.0017, val_loss: 0.3910, train_acc: 96.56%, val_acc: 96.50%\n"
     ]
    },
    {
     "name": "stderr",
     "output_type": "stream",
     "text": [
      " 90%|█████████ | 27/30 [27:48<03:05, 61.79s/it]"
     ]
    },
    {
     "name": "stdout",
     "output_type": "stream",
     "text": [
      "Early stopping triggered\n"
     ]
    },
    {
     "name": "stderr",
     "output_type": "stream",
     "text": [
      "\n"
     ]
    }
   ],
   "source": [
    "\n",
    "# 손실과 정확도를 기록하기 위한 리스트\n",
    "train_losses = []\n",
    "validation_losses = []\n",
    "train_accuracies = []\n",
    "validation_accuracies = []\n",
    "\n",
    "best_val_loss = float(\"inf\")\n",
    "patience = 5 # 성능이 개선되지 않는 에폭의 최대 허용 수\n",
    "patience_counter = 0 # 현재 patience 카운터\n",
    "\n",
    "for epoch in tqdm(range(num_epochs)):\n",
    "    model.train() # 학습 모드\n",
    "    train_loss = 0.0\n",
    "    correct_train_predictions = 0\n",
    "    total_train_predictions = 0\n",
    "    \n",
    "    for batch in train_dataloader:\n",
    "        # 배치에서 데이터 추출\n",
    "        landmarks_left, labels_left, landmarks_right, labels_right = batch\n",
    "        \n",
    "        # 왼손에 대한 예측\n",
    "        preds_left = model(landmarks_left)\n",
    "        loss_left = criterion(preds_left, labels_left)\n",
    "        \n",
    "        # 오른손에 대한 예측\n",
    "        preds_right = model(landmarks_right)\n",
    "        loss_right = criterion(preds_right, labels_right)\n",
    "        \n",
    "        # 총 손실 계산\n",
    "        train_loss = loss_left + loss_right\n",
    "        \n",
    "        # 역전파 및 최적화\n",
    "        optimizer.zero_grad() # 기존 그래디언트 초기화\n",
    "        train_loss.backward()       # 총 손실에 대한 역전파 수행\n",
    "        optimizer.step()      # 모델 파라미터 업데이트\n",
    "        \n",
    "        # 예측된 클래스와 실제 라벨 비교\n",
    "        _, predicted_left = torch.max(preds_left.data, 1)\n",
    "        _, predicted_right = torch.max(preds_right.data, 1)\n",
    "        \n",
    "        # 정확도 계산\n",
    "        total_train_predictions += labels_left.size(0) + labels_right.size(0)\n",
    "        correct_train_predictions += (predicted_left == labels_left).sum().item()\n",
    "        correct_train_predictions += (predicted_right == labels_right).sum().item()\n",
    "        \n",
    "    # 에폭당 평균 손실과 정확도 계산\n",
    "    avg_train_loss = train_loss / len(train_dataloader)\n",
    "    train_accuracy = correct_train_predictions / total_train_predictions * 100\n",
    "    train_losses.append(avg_train_loss)\n",
    "    train_accuracies.append(train_accuracy)\n",
    "    \n",
    "    # 검증 루프\n",
    "    model.eval()  # 평가 모드\n",
    "    validation_loss = 0.0\n",
    "    correct_validation_preds = 0\n",
    "    total_validation_preds = 0\n",
    "\n",
    "    with torch.no_grad():\n",
    "        # 검증 데이터셋에 대한 루프\n",
    "        for batch in validation_loader:\n",
    "            landmarks_left, labels_left, landmarks_right, labels_right = batch\n",
    "            \n",
    "            # 왼손에 대한 예측\n",
    "            preds_left = model(landmarks_left)\n",
    "            loss_left = criterion(preds_left, labels_left)\n",
    "\n",
    "            # 오른손에 대한 예측\n",
    "            preds_right = model(landmarks_right)\n",
    "            loss_right = criterion(preds_right, labels_right)\n",
    "\n",
    "            # 총 손실 계산\n",
    "            validation_loss += loss_left.item() + loss_right.item()\n",
    "\n",
    "            # 예측된 클래스와 실제 라벨 비교\n",
    "            _, predicted_left = torch.max(preds_left.data, 1)\n",
    "            _, predicted_right = torch.max(preds_right.data, 1)\n",
    "\n",
    "            # 정확도 계산\n",
    "            total_validation_preds += labels_left.size(0) + labels_right.size(0)\n",
    "            correct_validation_preds += (predicted_left == labels_left).sum().item()\n",
    "            correct_validation_preds += (predicted_right == labels_right).sum().item()\n",
    "\n",
    "    # 에폭당 평균 손실과 정확도 계산\n",
    "    avg_validation_loss = validation_loss / len(validation_loader)\n",
    "    validation_accuracy = (correct_validation_preds / total_validation_preds) * 100\n",
    "    validation_losses.append(avg_validation_loss)\n",
    "    validation_accuracies.append(validation_accuracy)\n",
    "    \n",
    "    # Early Stopping 검사\n",
    "    if avg_validation_loss < best_val_loss:\n",
    "        best_val_loss = avg_validation_loss\n",
    "        patience_counter = 0 # patience counter 리셋\n",
    "        # 최적 모델 저장\n",
    "        torch.save(model.state_dict(), \"best_model.pth\")\n",
    "    else:\n",
    "        patience_counter += 1\n",
    "        if patience_counter >= patience:\n",
    "            print(\"Early stopping triggered\")\n",
    "            break # 학습 중단\n",
    "    \n",
    "    # 현재 에폭의 손실과 정확도 출력\n",
    "    print(f\"Epoch {epoch}, train_loss: {avg_train_loss:.4f}, val_loss: {avg_validation_loss:.4f}, train_acc: {train_accuracy:.2f}%, val_acc: {validation_accuracy:.2f}%\")"
   ]
  },
  {
   "cell_type": "code",
   "execution_count": 5,
   "id": "0eca24b8",
   "metadata": {},
   "outputs": [
    {
     "data": {
      "image/png": "[encoded data removed]",
      "text/plain": [
       "<Figure size 1200x400 with 2 Axes>"
      ]
     },
     "metadata": {},
     "output_type": "display_data"
    }
   ],
   "source": [
    "# 리스트의 각 텐서를 numpy 배열로 변환\n",
    "train_losses_np = [loss.detach().numpy() for loss in train_losses]\n",
    "\n",
    "# 손실 시각화\n",
    "plt.figure(figsize=(12, 4))\n",
    "plt.subplot(1, 2, 1)\n",
    "plt.plot(train_losses_np, label=\"Train Loss\")\n",
    "plt.plot(validation_losses, label=\"Validation_Loss\")\n",
    "plt.title(\"Train and Validation Loss\")\n",
    "plt.xlabel(\"Epoch\")\n",
    "plt.ylabel(\"Loss\")\n",
    "plt.legend()\n",
    "\n",
    "# 정확도 시각화\n",
    "plt.subplot(1, 2, 2)\n",
    "plt.plot(train_accuracies, label='Train Accuracy')\n",
    "plt.plot(validation_accuracies, label='Validation Accuracy')\n",
    "plt.title('Train and Validation Accuracy')\n",
    "plt.xlabel('Epoch')\n",
    "plt.ylabel('Accuracy')\n",
    "plt.legend()\n",
    "\n",
    "plt.show()"
   ]
  },
  {
   "cell_type": "markdown",
   "id": "d94da3da",
   "metadata": {},
   "source": [
    "### 모델 저장"
   ]
  },
  {
   "cell_type": "code",
   "execution_count": null,
   "id": "0f476639",
   "metadata": {},
   "outputs": [],
   "source": [
    "model_save_path = \"trained_model.path\"\n",
    "torch.save(model.state_dict(), model_save_path)"
   ]
  }
 ],
 "metadata": {
  "kernelspec": {
   "display_name": "Python 3 (ipykernel)",
   "language": "python",
   "name": "python3"
  },
  "language_info": {
   "codemirror_mode": {
    "name": "ipython",
    "version": 3
   },
   "file_extension": ".py",
   "mimetype": "text/x-python",
   "name": "python",
   "nbconvert_exporter": "python",
   "pygments_lexer": "ipython3",
   "version": "3.9.0"
  }
 },
 "nbformat": 4,
 "nbformat_minor": 5
}
